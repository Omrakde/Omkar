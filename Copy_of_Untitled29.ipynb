{
  "nbformat": 4,
  "nbformat_minor": 0,
  "metadata": {
    "colab": {
      "provenance": [],
      "authorship_tag": "ABX9TyMP4f5levuXSqFDBhC1jIZ0",
      "include_colab_link": true
    },
    "kernelspec": {
      "name": "python3",
      "display_name": "Python 3"
    },
    "language_info": {
      "name": "python"
    }
  },
  "cells": [
    {
      "cell_type": "markdown",
      "metadata": {
        "id": "view-in-github",
        "colab_type": "text"
      },
      "source": [
        "<a href=\"https://colab.research.google.com/github/Omrakde/Omkar/blob/main/Copy_of_Untitled29.ipynb\" target=\"_parent\"><img src=\"https://colab.research.google.com/assets/colab-badge.svg\" alt=\"Open In Colab\"/></a>"
      ]
    },
    {
      "cell_type": "code",
      "execution_count": null,
      "metadata": {
        "colab": {
          "base_uri": "https://localhost:8080/"
        },
        "id": "uIPdckkz_Jtd",
        "outputId": "2e0078ea-4e26-4f44-cf48-2b9ae4dafa96"
      },
      "outputs": [
        {
          "output_type": "stream",
          "name": "stdout",
          "text": [
            "desired_output == actual_output\n"
          ]
        }
      ],
      "source": [
        "desired_output=15\n",
        "a=10\n",
        "b=5\n",
        "c=a+b\n",
        "actual_output=c\n",
        "if(c==15):\n",
        "  print(\"desired_output == actual_output\")\n",
        "else:\n",
        "  print(c)\n",
        "  print(\"desired_output != actual_output\")\n",
        "\n",
        "\n"
      ]
    },
    {
      "cell_type": "code",
      "source": [
        "desired_output=\"Green\"\n",
        "x1=\"blue\"\n",
        "x2=\"yellow\"\n",
        "x1+x2 ==\"Green\"\n",
        "if(desired_output==x1+x2):\n",
        "  print(\"True\")\n",
        "else:\n",
        "  print(\"False\")"
      ],
      "metadata": {
        "colab": {
          "base_uri": "https://localhost:8080/"
        },
        "id": "0cEYBUSrD-pN",
        "outputId": "6bafd554-9013-4b72-8c2f-93919a4f5bac"
      },
      "execution_count": null,
      "outputs": [
        {
          "output_type": "stream",
          "name": "stdout",
          "text": [
            "False\n"
          ]
        }
      ]
    },
    {
      "cell_type": "code",
      "source": [
        "x1=\"yellow\"\n",
        "x2=\"blue\"\n",
        "def mix(yellow,blue):\n",
        "  return \"Green\"\n",
        "mix(x1,x2)\n"
      ],
      "metadata": {
        "id": "UHWiQ2OfH--u",
        "colab": {
          "base_uri": "https://localhost:8080/",
          "height": 36
        },
        "outputId": "e5eab1a0-465c-4f05-b4f0-2ac789b38212"
      },
      "execution_count": 11,
      "outputs": [
        {
          "output_type": "execute_result",
          "data": {
            "text/plain": [
              "'Green'"
            ],
            "application/vnd.google.colaboratory.intrinsic+json": {
              "type": "string"
            }
          },
          "metadata": {},
          "execution_count": 11
        }
      ]
    }
  ]
}